{
 "cells": [
  {
   "cell_type": "code",
   "execution_count": null,
   "id": "2f8e9399-d99b-4840-9e25-cc313c65c651",
   "metadata": {},
   "outputs": [],
   "source": [
    "'''Q1. What is a database? Differentiate between SQL and NoSQL databases.\n",
    "\n",
    "Ans.A database is a structured collection of data that is organized and stored for easy retrieval,manipulation,and management.It provides a way to \n",
    "store,organize,and manage large amounts of information efficiently.\n",
    "\n",
    "SQL databases:\n",
    "1.SQL databases are based on a relational model.\n",
    "2.They use structured query language (SQL) for defining and manipulating the data.\n",
    "3.They have a predefined schema that specifies the structure of the data.\n",
    "4.SQL databases provide strong consistency, ACID (Atomicity, Consistency, Isolation, Durability) properties, and support for complex transactions.\n",
    "5.Examples of SQL databases include MySQL, PostgreSQL, Oracle, SQL Server.\n",
    "\n",
    "NoSQL databases:\n",
    "1.NoSQL databases are not based on a rigid relational model.\n",
    "2.They provide flexible schemas and can handle unstructured, semi-structured, and structured data.\n",
    "3.NoSQL databases use various data models like key-value pairs, document-based, columnar, or graph-based structures.\n",
    "4.They offer high scalability, high availability, and fault tolerance.\n",
    "5.NoSQL databases sacrifice some of the consistency and transactional features for improved performance and scalability.\n",
    "6.Examples of NoSQL databases include MongoDB, Cassandra, Redis, Couchbase.'''"
   ]
  },
  {
   "cell_type": "code",
   "execution_count": null,
   "id": "993d8185-7cc7-49df-99a0-955ae8999796",
   "metadata": {},
   "outputs": [],
   "source": [
    "'''Q2.What is DDL?Explain why CREATE,DROP,ALTER,and TRUNCATE are used with an example.\n",
    "\n",
    "Ans.DDL stands for Data Definition Language.It is a subset of SQL used to define and manage the structure of a database and its objects.DDL statements\n",
    "are used to create,modify,and delete database objects such as tables,indexes,views,and schemas.\n",
    "\n",
    "CREATE:The CREATE statement is used to create new database objects.\n",
    "CREATE TABLE Customers (\n",
    "    id INT PRIMARY KEY,\n",
    "    name VARCHAR(100),\n",
    "    email VARCHAR(100)\n",
    ");\n",
    "\n",
    "DROP:The DROP statement is used to delete existing database objects. \n",
    "DROP TABLE Customers;\n",
    "\n",
    "ALTER:The ALTER statement is used to modify the structure of existing database objects. \n",
    "ALTER TABLE Customers ADD COLUMN phone VARCHAR(20);\n",
    "\n",
    "TRUNCATE:The TRUNCATE statement is used to delete all the data from a table, but keep the table structure intact.\n",
    "TRUNCATE TABLE Customers;\n",
    "'''\n",
    "\n"
   ]
  },
  {
   "cell_type": "code",
   "execution_count": null,
   "id": "7e44b8f2-bf15-462f-9648-13c95e9d306a",
   "metadata": {},
   "outputs": [],
   "source": [
    "'''Q3. What is DML? Explain INSERT,UPDATE,and DELETE with an example.\n",
    "\n",
    "Ans.DML stands for Data Manipulation Language.It is used to retrieve,modify,and delete data stored in the database.\n",
    "\n",
    "INSERT:The INSERT statement is used to add new records into a table\n",
    "INSERT INTO Customers id, name, email VALUES 1, 'Abhinav Giri', 'ab@gmail.com';\n",
    "\n",
    "UPDATE: The UPDATE statement is used to modify existing records in a table. \n",
    "UPDATE employees SET salary=55000 WHERE id=1;\n",
    "\n",
    "DELETE:It is used to delete data from a table.\n",
    "DELETE FROM employees WHERE id=1;\n",
    "'''\n"
   ]
  },
  {
   "cell_type": "code",
   "execution_count": null,
   "id": "26913b64-6eb1-4c5d-b53a-db95e9c9e6c3",
   "metadata": {},
   "outputs": [],
   "source": [
    "'''Q4. What is DQL? Explain SELECT with an example.\n",
    "Ans.DQL (Data Query Language) is a set of SQL statements used to retrieve data from a database. SELECT is the most commonly used DQL statement, which is used to retrieve data from one or more tables. For example, the following SQL statement retrieves all the data from the \"employees\" table:\n",
    "\n",
    "SELECT * FROM employees;\n",
    "\n",
    "This statement selects all the columns and rows in the table.'''"
   ]
  },
  {
   "cell_type": "code",
   "execution_count": null,
   "id": "a05dbdaf-fd90-4f3a-b7ba-37a0d296a0de",
   "metadata": {},
   "outputs": [],
   "source": [
    "'''Q5.Primary Key and Foreign Key are two important concepts in relational databases.\n",
    "\n",
    "Ans.Primary Key:\n",
    "A Primary Key is a column or set of columns in a table that uniquely identifies each row. It ensures the uniqueness and integrity of the data in the \n",
    "table. The primary key constraint ensures that the primary key values are unique and not null. Each table in a database can have only one primary key.\n",
    "\n",
    "Foreign Key:\n",
    "A Foreign Key is a column or set of columns in a table that refers to the primary key of another table. It establishes a relationship between two \n",
    "tables based on the values of these columns. The foreign key constraint ensures that the values in the foreign key column(s) of one table match the\n",
    "primary key values of another table. This constraint helps maintain referential integrity and enforce relationships between tables.'''"
   ]
  },
  {
   "cell_type": "code",
   "execution_count": null,
   "id": "956a0df6-52bb-43b0-b9a9-086e5634cae4",
   "metadata": {},
   "outputs": [],
   "source": [
    "'''Q6.Here's an example of connecting Python to MySQL and using the cursor() and execute() methods:\n",
    "import mysql.connector\n",
    "cn=mysql.connector.connect(user='aqwe', password='abcd', host='localhost', database='hotel')\n",
    "cursor=cn.cursor()\n",
    "query=\"SELECT * FROM employees\"\n",
    "cursor.execute(query)\n",
    "results=cursor.fetchall()\n",
    "for row in results:\n",
    "    print(row)\n",
    "cursor.close()\n",
    "cn.close()\n",
    "'''"
   ]
  },
  {
   "cell_type": "code",
   "execution_count": null,
   "id": "55a5e122-bcb7-4f47-ba1c-88a84296cd30",
   "metadata": {},
   "outputs": [],
   "source": [
    "'''Q7.Give the order of execution of SQL clauses in an SQL query.\n",
    "Ans.The order of execution of SQL clauses in an SQL query is as follows:\n",
    "\n",
    "1.FROM:Specifies the table(s) from which the data is retrieved.\n",
    "2.WHERE:Filters the rows based on specified conditions.\n",
    "3.GROUP BY:Groups the rows based on specified columns.\n",
    "4.HAVING:Filters the grouped rows based on specified conditions.\n",
    "5.SELECT:Retrieves the specified columns or expressions for the result set.\n",
    "6.ORDER BY:Sorts the result set based on specified columns or expressions.\n",
    "7.LIMIT/OFFSET:Specifies the number of rows to retrieve or skip.\n",
    "'''"
   ]
  }
 ],
 "metadata": {
  "kernelspec": {
   "display_name": "Python 3 (ipykernel)",
   "language": "python",
   "name": "python3"
  },
  "language_info": {
   "codemirror_mode": {
    "name": "ipython",
    "version": 3
   },
   "file_extension": ".py",
   "mimetype": "text/x-python",
   "name": "python",
   "nbconvert_exporter": "python",
   "pygments_lexer": "ipython3",
   "version": "3.10.8"
  }
 },
 "nbformat": 4,
 "nbformat_minor": 5
}
